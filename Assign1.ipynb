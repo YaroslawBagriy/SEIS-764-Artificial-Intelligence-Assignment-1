{
 "cells": [
  {
   "cell_type": "code",
   "execution_count": 31,
   "id": "6809b2f3-b762-48b6-8d2f-dc1cf4d82948",
   "metadata": {},
   "outputs": [],
   "source": [
    "import pandas as pd\n",
    "from sklearn.model_selection import train_test_split\n",
    "from sklearn.preprocessing import StandardScaler\n",
    "from sklearn import preprocessing"
   ]
  },
  {
   "cell_type": "markdown",
   "id": "05980709-1d9e-436b-adf7-9b8e6037221c",
   "metadata": {},
   "source": [
    "1. Load the dataset and print how many data instances and columns we have."
   ]
  },
  {
   "cell_type": "code",
   "execution_count": 32,
   "id": "09bb27ef-9d24-402a-b3da-c633803db57b",
   "metadata": {},
   "outputs": [
    {
     "name": "stdout",
     "output_type": "stream",
     "text": [
      "Number of data instances: 1338\n",
      "Number of columns: 7\n"
     ]
    }
   ],
   "source": [
    "df = pd.read_csv(\"insurance.csv\")\n",
    "\n",
    "num_rows = df.shape[0]\n",
    "num_cols = df.shape[1]\n",
    "\n",
    "print(\"Number of data instances:\", num_rows)\n",
    "print(\"Number of columns:\", num_cols)"
   ]
  },
  {
   "cell_type": "markdown",
   "id": "aefa325e-b921-4399-a39e-bcf95976a842",
   "metadata": {},
   "source": [
    "2. Print if there are any missing values in any of the columns."
   ]
  },
  {
   "cell_type": "code",
   "execution_count": 33,
   "id": "24bf9d24-0766-462e-9c3c-40a2fe5109a2",
   "metadata": {},
   "outputs": [
    {
     "name": "stdout",
     "output_type": "stream",
     "text": [
      "Are there any missing values?: age         False\n",
      "sex         False\n",
      "bmi         False\n",
      "children    False\n",
      "smoker      False\n",
      "region      False\n",
      "charges     False\n",
      "dtype: bool\n"
     ]
    }
   ],
   "source": [
    "are_there_missing_values = df.isnull().sum() > 0\n",
    "print(\"Are there any missing values?:\", are_there_missing_values)"
   ]
  },
  {
   "cell_type": "markdown",
   "id": "d42e0f6b-b707-455e-a13c-0be974c2519c",
   "metadata": {},
   "source": [
    "3. Print any duplicate rows and delete them if they are available."
   ]
  },
  {
   "cell_type": "code",
   "execution_count": 34,
   "id": "0a50d4bf-1a68-4837-b743-594ce8cd0a2b",
   "metadata": {},
   "outputs": [
    {
     "name": "stdout",
     "output_type": "stream",
     "text": [
      "Duplicate rows:      age   sex    bmi  children smoker     region    charges\n",
      "581   19  male  30.59         0     no  northwest  1639.5631\n",
      "Data shape after removing duplicates: (1337, 7)\n"
     ]
    }
   ],
   "source": [
    "duplicate_rows = df[df.duplicated()]\n",
    "print(\"Duplicate rows:\", duplicate_rows)\n",
    "\n",
    "if not duplicate_rows.empty:\n",
    "    df = df.drop_duplicates().reset_index(drop=True)\n",
    "\n",
    "print(\"Data shape after removing duplicates:\", df.shape)"
   ]
  },
  {
   "cell_type": "markdown",
   "id": "670a8a87-caf1-47a8-b922-d42258f14332",
   "metadata": {},
   "source": [
    "4. Split the data into the features (i.e. X) and the target (i.e. y). Print first few rows of X and y."
   ]
  },
  {
   "cell_type": "code",
   "execution_count": 35,
   "id": "f362757a-8527-43e0-b83d-7cd6af252feb",
   "metadata": {},
   "outputs": [
    {
     "name": "stdout",
     "output_type": "stream",
     "text": [
      "First few rows of X:    age     sex     bmi  children smoker     region\n",
      "0   19  female  27.900         0    yes  southwest\n",
      "1   18    male  33.770         1     no  southeast\n",
      "2   28    male  33.000         3     no  southeast\n",
      "3   33    male  22.705         0     no  northwest\n",
      "4   32    male  28.880         0     no  northwest\n",
      "\n",
      "First few rows of y:        charges\n",
      "0  16884.92400\n",
      "1   1725.55230\n",
      "2   4449.46200\n",
      "3  21984.47061\n",
      "4   3866.85520\n"
     ]
    }
   ],
   "source": [
    "feature_columns = [\"age\", \"sex\", \"bmi\", \"children\", \"smoker\", \"region\"]\n",
    "dependent_column = [\"charges\"]\n",
    "\n",
    "X = df[feature_columns]\n",
    "\n",
    "y = df[dependent_column]\n",
    "\n",
    "print(\"First few rows of X:\", X.head())\n",
    "print(\"\\nFirst few rows of y:\", y.head())"
   ]
  },
  {
   "cell_type": "markdown",
   "id": "0e62ac05-a0fc-4532-aa26-c3b5e3bfbfbc",
   "metadata": {},
   "source": [
    "5. Split the dataset into training (70%) and testing (validation) set (30%). Perform normalization of the data using\n",
    "standardization."
   ]
  },
  {
   "cell_type": "code",
   "execution_count": 41,
   "id": "09e0b07a-b892-4b6d-9797-1b60218bd0c1",
   "metadata": {},
   "outputs": [],
   "source": [
    "numerical_predictor_columns = [\"age\", \"bmi\", \"children\"]\n",
    "categorical_columns = [\"sex\", \"smoker\", \"region\"]\n",
    "\n",
    "# One hot encode categorical features\n",
    "X_cats = pd.get_dummies(df[categorical_columns], drop_first=True)\n",
    "\n",
    "# Normalize numerical features\n",
    "X_num = preprocessing.scale(df[numerical_predictor_columns])\n",
    "X_num = pd.DataFrame(Z_train, columns=numerical_predictor_columns)\n",
    "\n",
    "# Combine\n",
    "X = pd.concat([X_num, X_cats], axis=1)\n",
    "\n",
    "y = df[dependent_column].values.ravel()\n",
    "\n",
    "# Split\n",
    "X_train, X_test, y_train, y_test = train_test_split(\n",
    "    X, y, test_size=0.30, random_state=42\n",
    ")\n"
   ]
  },
  {
   "cell_type": "markdown",
   "id": "591b1b3c-3b95-4c71-91c5-21c77013cb6c",
   "metadata": {},
   "source": [
    "6. Print how many data instances and columns we have in the train set."
   ]
  },
  {
   "cell_type": "code",
   "execution_count": null,
   "id": "31cd8b98-c0ab-4b17-8c95-8573b04aabf4",
   "metadata": {},
   "outputs": [],
   "source": [
    "print(\"Number of data rows in X_train:\", X_train_scaled.shape[0])\n",
    "print(\"Number of columns in X_train:\", X_train_scaled.shape[1])"
   ]
  }
 ],
 "metadata": {
  "kernelspec": {
   "display_name": "Python 3 (ipykernel)",
   "language": "python",
   "name": "python3"
  },
  "language_info": {
   "codemirror_mode": {
    "name": "ipython",
    "version": 3
   },
   "file_extension": ".py",
   "mimetype": "text/x-python",
   "name": "python",
   "nbconvert_exporter": "python",
   "pygments_lexer": "ipython3",
   "version": "3.9.6"
  }
 },
 "nbformat": 4,
 "nbformat_minor": 5
}
