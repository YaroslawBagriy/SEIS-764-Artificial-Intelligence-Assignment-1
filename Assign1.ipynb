{
 "cells": [
  {
   "cell_type": "code",
   "execution_count": null,
   "id": "b39f34ea-1dea-40dd-8f02-68ea809432ae",
   "metadata": {},
   "outputs": [],
   "source": []
  }
 ],
 "metadata": {
  "kernelspec": {
   "display_name": "",
   "name": ""
  },
  "language_info": {
   "name": ""
  }
 },
 "nbformat": 4,
 "nbformat_minor": 5
}
